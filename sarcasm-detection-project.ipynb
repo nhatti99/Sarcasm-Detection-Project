{
 "cells": [
  {
   "cell_type": "code",
   "execution_count": 1,
   "id": "eb356741",
   "metadata": {
    "_cell_guid": "b1076dfc-b9ad-4769-8c92-a6c4dae69d19",
    "_uuid": "8f2839f25d086af736a60e9eeb907d3b93b6e0e5",
    "execution": {
     "iopub.execute_input": "2022-09-07T17:19:15.385907Z",
     "iopub.status.busy": "2022-09-07T17:19:15.385208Z",
     "iopub.status.idle": "2022-09-07T17:19:15.405946Z",
     "shell.execute_reply": "2022-09-07T17:19:15.405109Z"
    },
    "papermill": {
     "duration": 0.033514,
     "end_time": "2022-09-07T17:19:15.409472",
     "exception": false,
     "start_time": "2022-09-07T17:19:15.375958",
     "status": "completed"
    },
    "tags": []
   },
   "outputs": [
    {
     "name": "stdout",
     "output_type": "stream",
     "text": [
      "/kaggle/input/sarcasm-detection-through-nlp/Sarcasm_Headlines_Dataset.json\n"
     ]
    }
   ],
   "source": [
    "# This Python 3 environment comes with many helpful analytics libraries installed\n",
    "# It is defined by the kaggle/python Docker image: https://github.com/kaggle/docker-python\n",
    "# For example, here's several helpful packages to load\n",
    "\n",
    "import numpy as np # linear algebra\n",
    "import pandas as pd # data processing, CSV file I/O (e.g. pd.read_csv)\n",
    "\n",
    "# Input data files are available in the read-only \"../input/\" directory\n",
    "# For example, running this (by clicking run or pressing Shift+Enter) will list all files under the input directory\n",
    "\n",
    "import os\n",
    "for dirname, _, filenames in os.walk('/kaggle/input'):\n",
    "    for filename in filenames:\n",
    "        print(os.path.join(dirname, filename))\n",
    "\n",
    "# You can write up to 20GB to the current directory (/kaggle/working/) that gets preserved as output when you create a version using \"Save & Run All\" \n",
    "# You can also write temporary files to /kaggle/temp/, but they won't be saved outside of the current session"
   ]
  },
  {
   "cell_type": "code",
   "execution_count": 2,
   "id": "04809afa",
   "metadata": {
    "execution": {
     "iopub.execute_input": "2022-09-07T17:19:15.423758Z",
     "iopub.status.busy": "2022-09-07T17:19:15.423002Z",
     "iopub.status.idle": "2022-09-07T17:19:16.610778Z",
     "shell.execute_reply": "2022-09-07T17:19:16.609471Z"
    },
    "papermill": {
     "duration": 1.197727,
     "end_time": "2022-09-07T17:19:16.613752",
     "exception": false,
     "start_time": "2022-09-07T17:19:15.416025",
     "status": "completed"
    },
    "tags": []
   },
   "outputs": [],
   "source": [
    "from sklearn.model_selection import train_test_split\n",
    "from sklearn.feature_extraction.text import CountVectorizer"
   ]
  },
  {
   "cell_type": "code",
   "execution_count": 3,
   "id": "c16f6533",
   "metadata": {
    "execution": {
     "iopub.execute_input": "2022-09-07T17:19:16.629198Z",
     "iopub.status.busy": "2022-09-07T17:19:16.628184Z",
     "iopub.status.idle": "2022-09-07T17:19:16.636931Z",
     "shell.execute_reply": "2022-09-07T17:19:16.636007Z"
    },
    "papermill": {
     "duration": 0.019674,
     "end_time": "2022-09-07T17:19:16.639608",
     "exception": false,
     "start_time": "2022-09-07T17:19:16.619934",
     "status": "completed"
    },
    "tags": []
   },
   "outputs": [],
   "source": [
    "from sklearn.naive_bayes import BernoulliNB"
   ]
  },
  {
   "cell_type": "code",
   "execution_count": 4,
   "id": "5ca2d0ae",
   "metadata": {
    "execution": {
     "iopub.execute_input": "2022-09-07T17:19:16.653499Z",
     "iopub.status.busy": "2022-09-07T17:19:16.652263Z",
     "iopub.status.idle": "2022-09-07T17:19:16.878650Z",
     "shell.execute_reply": "2022-09-07T17:19:16.877673Z"
    },
    "papermill": {
     "duration": 0.23594,
     "end_time": "2022-09-07T17:19:16.881328",
     "exception": false,
     "start_time": "2022-09-07T17:19:16.645388",
     "status": "completed"
    },
    "tags": []
   },
   "outputs": [],
   "source": [
    "df = pd.read_json('../input/sarcasm-detection-through-nlp/Sarcasm_Headlines_Dataset.json', lines=True)"
   ]
  },
  {
   "cell_type": "code",
   "execution_count": 5,
   "id": "35f11850",
   "metadata": {
    "execution": {
     "iopub.execute_input": "2022-09-07T17:19:16.894391Z",
     "iopub.status.busy": "2022-09-07T17:19:16.893983Z",
     "iopub.status.idle": "2022-09-07T17:19:16.910021Z",
     "shell.execute_reply": "2022-09-07T17:19:16.908784Z"
    },
    "papermill": {
     "duration": 0.025573,
     "end_time": "2022-09-07T17:19:16.912540",
     "exception": false,
     "start_time": "2022-09-07T17:19:16.886967",
     "status": "completed"
    },
    "tags": []
   },
   "outputs": [
    {
     "data": {
      "text/html": [
       "<div>\n",
       "<style scoped>\n",
       "    .dataframe tbody tr th:only-of-type {\n",
       "        vertical-align: middle;\n",
       "    }\n",
       "\n",
       "    .dataframe tbody tr th {\n",
       "        vertical-align: top;\n",
       "    }\n",
       "\n",
       "    .dataframe thead th {\n",
       "        text-align: right;\n",
       "    }\n",
       "</style>\n",
       "<table border=\"1\" class=\"dataframe\">\n",
       "  <thead>\n",
       "    <tr style=\"text-align: right;\">\n",
       "      <th></th>\n",
       "      <th>article_link</th>\n",
       "      <th>headline</th>\n",
       "      <th>is_sarcastic</th>\n",
       "    </tr>\n",
       "  </thead>\n",
       "  <tbody>\n",
       "    <tr>\n",
       "      <th>0</th>\n",
       "      <td>https://www.huffingtonpost.com/entry/versace-b...</td>\n",
       "      <td>former versace store clerk sues over secret 'b...</td>\n",
       "      <td>0</td>\n",
       "    </tr>\n",
       "    <tr>\n",
       "      <th>1</th>\n",
       "      <td>https://www.huffingtonpost.com/entry/roseanne-...</td>\n",
       "      <td>the 'roseanne' revival catches up to our thorn...</td>\n",
       "      <td>0</td>\n",
       "    </tr>\n",
       "    <tr>\n",
       "      <th>2</th>\n",
       "      <td>https://local.theonion.com/mom-starting-to-fea...</td>\n",
       "      <td>mom starting to fear son's web series closest ...</td>\n",
       "      <td>1</td>\n",
       "    </tr>\n",
       "    <tr>\n",
       "      <th>3</th>\n",
       "      <td>https://politics.theonion.com/boehner-just-wan...</td>\n",
       "      <td>boehner just wants wife to listen, not come up...</td>\n",
       "      <td>1</td>\n",
       "    </tr>\n",
       "    <tr>\n",
       "      <th>4</th>\n",
       "      <td>https://www.huffingtonpost.com/entry/jk-rowlin...</td>\n",
       "      <td>j.k. rowling wishes snape happy birthday in th...</td>\n",
       "      <td>0</td>\n",
       "    </tr>\n",
       "  </tbody>\n",
       "</table>\n",
       "</div>"
      ],
      "text/plain": [
       "                                        article_link  \\\n",
       "0  https://www.huffingtonpost.com/entry/versace-b...   \n",
       "1  https://www.huffingtonpost.com/entry/roseanne-...   \n",
       "2  https://local.theonion.com/mom-starting-to-fea...   \n",
       "3  https://politics.theonion.com/boehner-just-wan...   \n",
       "4  https://www.huffingtonpost.com/entry/jk-rowlin...   \n",
       "\n",
       "                                            headline  is_sarcastic  \n",
       "0  former versace store clerk sues over secret 'b...             0  \n",
       "1  the 'roseanne' revival catches up to our thorn...             0  \n",
       "2  mom starting to fear son's web series closest ...             1  \n",
       "3  boehner just wants wife to listen, not come up...             1  \n",
       "4  j.k. rowling wishes snape happy birthday in th...             0  "
      ]
     },
     "execution_count": 5,
     "metadata": {},
     "output_type": "execute_result"
    }
   ],
   "source": [
    "df.head()"
   ]
  },
  {
   "cell_type": "code",
   "execution_count": 6,
   "id": "ada50123",
   "metadata": {
    "execution": {
     "iopub.execute_input": "2022-09-07T17:19:16.927191Z",
     "iopub.status.busy": "2022-09-07T17:19:16.926767Z",
     "iopub.status.idle": "2022-09-07T17:19:16.933985Z",
     "shell.execute_reply": "2022-09-07T17:19:16.932911Z"
    },
    "papermill": {
     "duration": 0.017757,
     "end_time": "2022-09-07T17:19:16.936671",
     "exception": false,
     "start_time": "2022-09-07T17:19:16.918914",
     "status": "completed"
    },
    "tags": []
   },
   "outputs": [
    {
     "data": {
      "text/plain": [
       "(26709, 3)"
      ]
     },
     "execution_count": 6,
     "metadata": {},
     "output_type": "execute_result"
    }
   ],
   "source": [
    "df.shape"
   ]
  },
  {
   "cell_type": "code",
   "execution_count": 7,
   "id": "506a3661",
   "metadata": {
    "execution": {
     "iopub.execute_input": "2022-09-07T17:19:16.950189Z",
     "iopub.status.busy": "2022-09-07T17:19:16.949741Z",
     "iopub.status.idle": "2022-09-07T17:19:16.975732Z",
     "shell.execute_reply": "2022-09-07T17:19:16.974744Z"
    },
    "papermill": {
     "duration": 0.036598,
     "end_time": "2022-09-07T17:19:16.979164",
     "exception": false,
     "start_time": "2022-09-07T17:19:16.942566",
     "status": "completed"
    },
    "tags": []
   },
   "outputs": [
    {
     "name": "stdout",
     "output_type": "stream",
     "text": [
      "<class 'pandas.core.frame.DataFrame'>\n",
      "RangeIndex: 26709 entries, 0 to 26708\n",
      "Data columns (total 3 columns):\n",
      " #   Column        Non-Null Count  Dtype \n",
      "---  ------        --------------  ----- \n",
      " 0   article_link  26709 non-null  object\n",
      " 1   headline      26709 non-null  object\n",
      " 2   is_sarcastic  26709 non-null  int64 \n",
      "dtypes: int64(1), object(2)\n",
      "memory usage: 626.1+ KB\n"
     ]
    }
   ],
   "source": [
    "df.info()"
   ]
  },
  {
   "cell_type": "code",
   "execution_count": 8,
   "id": "1dca6cf1",
   "metadata": {
    "execution": {
     "iopub.execute_input": "2022-09-07T17:19:16.994410Z",
     "iopub.status.busy": "2022-09-07T17:19:16.993256Z",
     "iopub.status.idle": "2022-09-07T17:19:17.008648Z",
     "shell.execute_reply": "2022-09-07T17:19:17.007649Z"
    },
    "papermill": {
     "duration": 0.025175,
     "end_time": "2022-09-07T17:19:17.011040",
     "exception": false,
     "start_time": "2022-09-07T17:19:16.985865",
     "status": "completed"
    },
    "tags": []
   },
   "outputs": [
    {
     "data": {
      "text/plain": [
       "article_link    0\n",
       "headline        0\n",
       "is_sarcastic    0\n",
       "dtype: int64"
      ]
     },
     "execution_count": 8,
     "metadata": {},
     "output_type": "execute_result"
    }
   ],
   "source": [
    "df.isnull().sum()"
   ]
  },
  {
   "cell_type": "code",
   "execution_count": 9,
   "id": "2b6ce063",
   "metadata": {
    "execution": {
     "iopub.execute_input": "2022-09-07T17:19:17.026006Z",
     "iopub.status.busy": "2022-09-07T17:19:17.024913Z",
     "iopub.status.idle": "2022-09-07T17:19:17.033622Z",
     "shell.execute_reply": "2022-09-07T17:19:17.032212Z"
    },
    "papermill": {
     "duration": 0.01859,
     "end_time": "2022-09-07T17:19:17.035971",
     "exception": false,
     "start_time": "2022-09-07T17:19:17.017381",
     "status": "completed"
    },
    "tags": []
   },
   "outputs": [],
   "source": [
    "df['is_sarcastic'] = df['is_sarcastic'].map({0:'Not Sarcasm', 1:'Sarcasam'})"
   ]
  },
  {
   "cell_type": "code",
   "execution_count": 10,
   "id": "5d04edc2",
   "metadata": {
    "execution": {
     "iopub.execute_input": "2022-09-07T17:19:17.050592Z",
     "iopub.status.busy": "2022-09-07T17:19:17.049902Z",
     "iopub.status.idle": "2022-09-07T17:19:17.063432Z",
     "shell.execute_reply": "2022-09-07T17:19:17.062450Z"
    },
    "papermill": {
     "duration": 0.024095,
     "end_time": "2022-09-07T17:19:17.066415",
     "exception": false,
     "start_time": "2022-09-07T17:19:17.042320",
     "status": "completed"
    },
    "tags": []
   },
   "outputs": [
    {
     "data": {
      "text/html": [
       "<div>\n",
       "<style scoped>\n",
       "    .dataframe tbody tr th:only-of-type {\n",
       "        vertical-align: middle;\n",
       "    }\n",
       "\n",
       "    .dataframe tbody tr th {\n",
       "        vertical-align: top;\n",
       "    }\n",
       "\n",
       "    .dataframe thead th {\n",
       "        text-align: right;\n",
       "    }\n",
       "</style>\n",
       "<table border=\"1\" class=\"dataframe\">\n",
       "  <thead>\n",
       "    <tr style=\"text-align: right;\">\n",
       "      <th></th>\n",
       "      <th>article_link</th>\n",
       "      <th>headline</th>\n",
       "      <th>is_sarcastic</th>\n",
       "    </tr>\n",
       "  </thead>\n",
       "  <tbody>\n",
       "    <tr>\n",
       "      <th>0</th>\n",
       "      <td>https://www.huffingtonpost.com/entry/versace-b...</td>\n",
       "      <td>former versace store clerk sues over secret 'b...</td>\n",
       "      <td>Not Sarcasm</td>\n",
       "    </tr>\n",
       "    <tr>\n",
       "      <th>1</th>\n",
       "      <td>https://www.huffingtonpost.com/entry/roseanne-...</td>\n",
       "      <td>the 'roseanne' revival catches up to our thorn...</td>\n",
       "      <td>Not Sarcasm</td>\n",
       "    </tr>\n",
       "    <tr>\n",
       "      <th>2</th>\n",
       "      <td>https://local.theonion.com/mom-starting-to-fea...</td>\n",
       "      <td>mom starting to fear son's web series closest ...</td>\n",
       "      <td>Sarcasam</td>\n",
       "    </tr>\n",
       "    <tr>\n",
       "      <th>3</th>\n",
       "      <td>https://politics.theonion.com/boehner-just-wan...</td>\n",
       "      <td>boehner just wants wife to listen, not come up...</td>\n",
       "      <td>Sarcasam</td>\n",
       "    </tr>\n",
       "    <tr>\n",
       "      <th>4</th>\n",
       "      <td>https://www.huffingtonpost.com/entry/jk-rowlin...</td>\n",
       "      <td>j.k. rowling wishes snape happy birthday in th...</td>\n",
       "      <td>Not Sarcasm</td>\n",
       "    </tr>\n",
       "    <tr>\n",
       "      <th>...</th>\n",
       "      <td>...</td>\n",
       "      <td>...</td>\n",
       "      <td>...</td>\n",
       "    </tr>\n",
       "    <tr>\n",
       "      <th>26704</th>\n",
       "      <td>https://www.huffingtonpost.com/entry/american-...</td>\n",
       "      <td>american politics in moral free-fall</td>\n",
       "      <td>Not Sarcasm</td>\n",
       "    </tr>\n",
       "    <tr>\n",
       "      <th>26705</th>\n",
       "      <td>https://www.huffingtonpost.com/entry/americas-...</td>\n",
       "      <td>america's best 20 hikes</td>\n",
       "      <td>Not Sarcasm</td>\n",
       "    </tr>\n",
       "    <tr>\n",
       "      <th>26706</th>\n",
       "      <td>https://www.huffingtonpost.com/entry/reparatio...</td>\n",
       "      <td>reparations and obama</td>\n",
       "      <td>Not Sarcasm</td>\n",
       "    </tr>\n",
       "    <tr>\n",
       "      <th>26707</th>\n",
       "      <td>https://www.huffingtonpost.com/entry/israeli-b...</td>\n",
       "      <td>israeli ban targeting boycott supporters raise...</td>\n",
       "      <td>Not Sarcasm</td>\n",
       "    </tr>\n",
       "    <tr>\n",
       "      <th>26708</th>\n",
       "      <td>https://www.huffingtonpost.com/entry/gourmet-g...</td>\n",
       "      <td>gourmet gifts for the foodie 2014</td>\n",
       "      <td>Not Sarcasm</td>\n",
       "    </tr>\n",
       "  </tbody>\n",
       "</table>\n",
       "<p>26709 rows × 3 columns</p>\n",
       "</div>"
      ],
      "text/plain": [
       "                                            article_link  \\\n",
       "0      https://www.huffingtonpost.com/entry/versace-b...   \n",
       "1      https://www.huffingtonpost.com/entry/roseanne-...   \n",
       "2      https://local.theonion.com/mom-starting-to-fea...   \n",
       "3      https://politics.theonion.com/boehner-just-wan...   \n",
       "4      https://www.huffingtonpost.com/entry/jk-rowlin...   \n",
       "...                                                  ...   \n",
       "26704  https://www.huffingtonpost.com/entry/american-...   \n",
       "26705  https://www.huffingtonpost.com/entry/americas-...   \n",
       "26706  https://www.huffingtonpost.com/entry/reparatio...   \n",
       "26707  https://www.huffingtonpost.com/entry/israeli-b...   \n",
       "26708  https://www.huffingtonpost.com/entry/gourmet-g...   \n",
       "\n",
       "                                                headline is_sarcastic  \n",
       "0      former versace store clerk sues over secret 'b...  Not Sarcasm  \n",
       "1      the 'roseanne' revival catches up to our thorn...  Not Sarcasm  \n",
       "2      mom starting to fear son's web series closest ...     Sarcasam  \n",
       "3      boehner just wants wife to listen, not come up...     Sarcasam  \n",
       "4      j.k. rowling wishes snape happy birthday in th...  Not Sarcasm  \n",
       "...                                                  ...          ...  \n",
       "26704               american politics in moral free-fall  Not Sarcasm  \n",
       "26705                            america's best 20 hikes  Not Sarcasm  \n",
       "26706                              reparations and obama  Not Sarcasm  \n",
       "26707  israeli ban targeting boycott supporters raise...  Not Sarcasm  \n",
       "26708                  gourmet gifts for the foodie 2014  Not Sarcasm  \n",
       "\n",
       "[26709 rows x 3 columns]"
      ]
     },
     "execution_count": 10,
     "metadata": {},
     "output_type": "execute_result"
    }
   ],
   "source": [
    "df"
   ]
  },
  {
   "cell_type": "code",
   "execution_count": 11,
   "id": "dd89cddd",
   "metadata": {
    "execution": {
     "iopub.execute_input": "2022-09-07T17:19:17.081786Z",
     "iopub.status.busy": "2022-09-07T17:19:17.081129Z",
     "iopub.status.idle": "2022-09-07T17:19:17.089501Z",
     "shell.execute_reply": "2022-09-07T17:19:17.088421Z"
    },
    "papermill": {
     "duration": 0.019,
     "end_time": "2022-09-07T17:19:17.091958",
     "exception": false,
     "start_time": "2022-09-07T17:19:17.072958",
     "status": "completed"
    },
    "tags": []
   },
   "outputs": [],
   "source": [
    "df = df[['headline', 'is_sarcastic']]"
   ]
  },
  {
   "cell_type": "code",
   "execution_count": 12,
   "id": "37c730b6",
   "metadata": {
    "execution": {
     "iopub.execute_input": "2022-09-07T17:19:17.107062Z",
     "iopub.status.busy": "2022-09-07T17:19:17.106377Z",
     "iopub.status.idle": "2022-09-07T17:19:17.111590Z",
     "shell.execute_reply": "2022-09-07T17:19:17.110593Z"
    },
    "papermill": {
     "duration": 0.015362,
     "end_time": "2022-09-07T17:19:17.113814",
     "exception": false,
     "start_time": "2022-09-07T17:19:17.098452",
     "status": "completed"
    },
    "tags": []
   },
   "outputs": [],
   "source": [
    "X = np.array(df['headline'])"
   ]
  },
  {
   "cell_type": "code",
   "execution_count": 13,
   "id": "2aba49eb",
   "metadata": {
    "execution": {
     "iopub.execute_input": "2022-09-07T17:19:17.129110Z",
     "iopub.status.busy": "2022-09-07T17:19:17.128453Z",
     "iopub.status.idle": "2022-09-07T17:19:17.133354Z",
     "shell.execute_reply": "2022-09-07T17:19:17.132390Z"
    },
    "papermill": {
     "duration": 0.015119,
     "end_time": "2022-09-07T17:19:17.135603",
     "exception": false,
     "start_time": "2022-09-07T17:19:17.120484",
     "status": "completed"
    },
    "tags": []
   },
   "outputs": [],
   "source": [
    "y = np.array(df['is_sarcastic'])"
   ]
  },
  {
   "cell_type": "code",
   "execution_count": 14,
   "id": "002d98f3",
   "metadata": {
    "execution": {
     "iopub.execute_input": "2022-09-07T17:19:17.150312Z",
     "iopub.status.busy": "2022-09-07T17:19:17.149630Z",
     "iopub.status.idle": "2022-09-07T17:19:17.154038Z",
     "shell.execute_reply": "2022-09-07T17:19:17.153148Z"
    },
    "papermill": {
     "duration": 0.014561,
     "end_time": "2022-09-07T17:19:17.156448",
     "exception": false,
     "start_time": "2022-09-07T17:19:17.141887",
     "status": "completed"
    },
    "tags": []
   },
   "outputs": [],
   "source": [
    "count = CountVectorizer()"
   ]
  },
  {
   "cell_type": "code",
   "execution_count": 15,
   "id": "ece050b8",
   "metadata": {
    "execution": {
     "iopub.execute_input": "2022-09-07T17:19:17.172809Z",
     "iopub.status.busy": "2022-09-07T17:19:17.172167Z",
     "iopub.status.idle": "2022-09-07T17:19:17.544697Z",
     "shell.execute_reply": "2022-09-07T17:19:17.543433Z"
    },
    "papermill": {
     "duration": 0.383635,
     "end_time": "2022-09-07T17:19:17.547617",
     "exception": false,
     "start_time": "2022-09-07T17:19:17.163982",
     "status": "completed"
    },
    "tags": []
   },
   "outputs": [],
   "source": [
    "X = count.fit_transform(X)"
   ]
  },
  {
   "cell_type": "code",
   "execution_count": 16,
   "id": "22049e17",
   "metadata": {
    "execution": {
     "iopub.execute_input": "2022-09-07T17:19:17.562634Z",
     "iopub.status.busy": "2022-09-07T17:19:17.561753Z",
     "iopub.status.idle": "2022-09-07T17:19:17.573779Z",
     "shell.execute_reply": "2022-09-07T17:19:17.572681Z"
    },
    "papermill": {
     "duration": 0.022331,
     "end_time": "2022-09-07T17:19:17.576285",
     "exception": false,
     "start_time": "2022-09-07T17:19:17.553954",
     "status": "completed"
    },
    "tags": []
   },
   "outputs": [],
   "source": [
    "X_train, X_test, y_train, y_test = train_test_split(X, y, test_size=0.2, random_state=3)"
   ]
  },
  {
   "cell_type": "code",
   "execution_count": 17,
   "id": "4bbec01b",
   "metadata": {
    "execution": {
     "iopub.execute_input": "2022-09-07T17:19:17.590780Z",
     "iopub.status.busy": "2022-09-07T17:19:17.590384Z",
     "iopub.status.idle": "2022-09-07T17:19:17.594718Z",
     "shell.execute_reply": "2022-09-07T17:19:17.593878Z"
    },
    "papermill": {
     "duration": 0.014095,
     "end_time": "2022-09-07T17:19:17.596797",
     "exception": false,
     "start_time": "2022-09-07T17:19:17.582702",
     "status": "completed"
    },
    "tags": []
   },
   "outputs": [],
   "source": [
    "model = BernoulliNB()"
   ]
  },
  {
   "cell_type": "code",
   "execution_count": 18,
   "id": "25956efe",
   "metadata": {
    "execution": {
     "iopub.execute_input": "2022-09-07T17:19:17.612213Z",
     "iopub.status.busy": "2022-09-07T17:19:17.611763Z",
     "iopub.status.idle": "2022-09-07T17:19:17.682160Z",
     "shell.execute_reply": "2022-09-07T17:19:17.680952Z"
    },
    "papermill": {
     "duration": 0.080964,
     "end_time": "2022-09-07T17:19:17.684658",
     "exception": false,
     "start_time": "2022-09-07T17:19:17.603694",
     "status": "completed"
    },
    "tags": []
   },
   "outputs": [
    {
     "data": {
      "text/plain": [
       "BernoulliNB()"
      ]
     },
     "execution_count": 18,
     "metadata": {},
     "output_type": "execute_result"
    }
   ],
   "source": [
    "model.fit(X_train, y_train)"
   ]
  },
  {
   "cell_type": "code",
   "execution_count": 19,
   "id": "88bf86f2",
   "metadata": {
    "execution": {
     "iopub.execute_input": "2022-09-07T17:19:17.699870Z",
     "iopub.status.busy": "2022-09-07T17:19:17.698754Z",
     "iopub.status.idle": "2022-09-07T17:19:17.709493Z",
     "shell.execute_reply": "2022-09-07T17:19:17.708411Z"
    },
    "papermill": {
     "duration": 0.021065,
     "end_time": "2022-09-07T17:19:17.712183",
     "exception": false,
     "start_time": "2022-09-07T17:19:17.691118",
     "status": "completed"
    },
    "tags": []
   },
   "outputs": [
    {
     "data": {
      "text/plain": [
       "array(['Sarcasam', 'Not Sarcasm', 'Not Sarcasm', ..., 'Sarcasam',\n",
       "       'Not Sarcasm', 'Sarcasam'], dtype='<U11')"
      ]
     },
     "execution_count": 19,
     "metadata": {},
     "output_type": "execute_result"
    }
   ],
   "source": [
    "model.predict(X_test)"
   ]
  },
  {
   "cell_type": "code",
   "execution_count": 20,
   "id": "ac1960b6",
   "metadata": {
    "execution": {
     "iopub.execute_input": "2022-09-07T17:19:17.726811Z",
     "iopub.status.busy": "2022-09-07T17:19:17.726419Z",
     "iopub.status.idle": "2022-09-07T17:19:17.747256Z",
     "shell.execute_reply": "2022-09-07T17:19:17.745950Z"
    },
    "papermill": {
     "duration": 0.031142,
     "end_time": "2022-09-07T17:19:17.749887",
     "exception": false,
     "start_time": "2022-09-07T17:19:17.718745",
     "status": "completed"
    },
    "tags": []
   },
   "outputs": [
    {
     "data": {
      "text/plain": [
       "0.8451890677648821"
      ]
     },
     "execution_count": 20,
     "metadata": {},
     "output_type": "execute_result"
    }
   ],
   "source": [
    "model.score(X_test, y_test)"
   ]
  },
  {
   "cell_type": "code",
   "execution_count": null,
   "id": "61f1efd3",
   "metadata": {
    "papermill": {
     "duration": 0.006259,
     "end_time": "2022-09-07T17:19:17.762726",
     "exception": false,
     "start_time": "2022-09-07T17:19:17.756467",
     "status": "completed"
    },
    "tags": []
   },
   "outputs": [],
   "source": []
  }
 ],
 "metadata": {
  "kernelspec": {
   "display_name": "Python 3",
   "language": "python",
   "name": "python3"
  },
  "language_info": {
   "codemirror_mode": {
    "name": "ipython",
    "version": 3
   },
   "file_extension": ".py",
   "mimetype": "text/x-python",
   "name": "python",
   "nbconvert_exporter": "python",
   "pygments_lexer": "ipython3",
   "version": "3.7.12"
  },
  "papermill": {
   "default_parameters": {},
   "duration": 12.280931,
   "end_time": "2022-09-07T17:19:18.491201",
   "environment_variables": {},
   "exception": null,
   "input_path": "__notebook__.ipynb",
   "output_path": "__notebook__.ipynb",
   "parameters": {},
   "start_time": "2022-09-07T17:19:06.210270",
   "version": "2.3.4"
  }
 },
 "nbformat": 4,
 "nbformat_minor": 5
}
